{
  "nbformat": 4,
  "nbformat_minor": 0,
  "metadata": {
    "colab": {
      "name": "EEE515_Project1.ipynb",
      "provenance": [],
      "authorship_tag": "ABX9TyOFvhnKx3KWIytJ4aUneHe0",
      "include_colab_link": true
    },
    "kernelspec": {
      "name": "python3",
      "display_name": "Python 3"
    },
    "language_info": {
      "name": "python"
    }
  },
  "cells": [
    {
      "cell_type": "markdown",
      "metadata": {
        "id": "view-in-github",
        "colab_type": "text"
      },
      "source": [
        "<a href=\"https://colab.research.google.com/github/sandreandreandre/EEE515/blob/Andre/EEE515_Project1.ipynb\" target=\"_parent\"><img src=\"https://colab.research.google.com/assets/colab-badge.svg\" alt=\"Open In Colab\"/></a>"
      ]
    },
    {
      "cell_type": "code",
      "metadata": {
        "id": "qnlxvDb9iJNF",
        "colab": {
          "base_uri": "https://localhost:8080/"
        },
        "outputId": "0a0b67a4-f268-45f3-dd3b-0c5d16fdb38f"
      },
      "source": [
        "print(\"new\")\n"
      ],
      "execution_count": 1,
      "outputs": [
        {
          "output_type": "stream",
          "name": "stdout",
          "text": [
            "hi\n"
          ]
        }
      ]
    }
  ]
}