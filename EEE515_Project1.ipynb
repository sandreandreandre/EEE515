{
  "nbformat": 4,
  "nbformat_minor": 0,
  "metadata": {
    "colab": {
      "name": "EEE515_Project1.ipynb",
      "provenance": [],
      "collapsed_sections": [],
      "authorship_tag": "ABX9TyPmPLJd746ocAc4YthDJq6d",
      "include_colab_link": true
    },
    "kernelspec": {
      "name": "python3",
      "display_name": "Python 3"
    },
    "language_info": {
      "name": "python"
    }
  },
  "cells": [
    {
      "cell_type": "markdown",
      "metadata": {
        "id": "view-in-github",
        "colab_type": "text"
      },
      "source": [
        "<a href=\"https://colab.research.google.com/github/sandreandreandre/EEE515/blob/Teaching-and-Testing/EEE515_Project1.ipynb\" target=\"_parent\"><img src=\"https://colab.research.google.com/assets/colab-badge.svg\" alt=\"Open In Colab\"/></a>"
      ]
    },
    {
      "cell_type": "markdown",
      "metadata": {
        "id": "hTkS5Au9D34b"
      },
      "source": [
        "This is the EEE515 project 1.\n",
        "\n",
        "Group 10\n",
        "\n",
        "Group member: Yen-Tsu Chen\n",
        "\n",
        "Introduction:\n",
        "\n",
        "Set up file(dataset):\n",
        "\n",
        "This is the introdction that how to upload the dataset from our github.\n",
        "\n",
        "First: \n",
        "\n",
        "Navigate to the Github repo containing the dataset. On the repo’s homepage, locate the green ‘Code’ button.\n",
        "\n",
        "Second: \n",
        "\n",
        "Click the arrow to the right of code button and right click the Download zip and click the copy link location.\n",
        "\n",
        "Third:\n",
        "\n",
        "Using the example code below. This is the path I copy from the github dataset repo\"https://github.com/laxmimerit/dog-cat-full-dataset/archive/refs/heads/master.zip\". I want to extract the content to /tmp folder. I provide the download directory and name the zip file as cats-and-dogs.zip.\n",
        "\n",
        "Finally:\n",
        "\n",
        "Click the .. directory and check our /tmp directory. We can see there is dog-cat-full-dataset file in there. That is our training dataset.\n",
        "\n",
        "More Info:\n",
        "\n",
        "https://towardsdatascience.com/an-informative-colab-guide-to-load-image-datasets-from-github-kaggle-and-local-machine-75cae89ffa1e\n",
        "\n",
        "\n",
        "\n",
        "\n"
      ]
    },
    {
      "cell_type": "code",
      "metadata": {
        "colab": {
          "base_uri": "https://localhost:8080/"
        },
        "id": "mWWa5ZOVERMh",
        "outputId": "18cf4656-5188-4bed-bc69-936d81deda7d"
      },
      "source": [
        "import zipfile\n",
        "import os\n",
        "\n",
        "!wget --no-check-certificate \\\n",
        "\"https://github.com/laxmimerit/dog-cat-full-dataset/archive/refs/heads/master.zip\" \\\n",
        "  -O \"/tmp/cats-and-dogs.zip\"\n",
        "\n",
        "zip_ref = zipfile.ZipFile('/tmp/cats-and-dogs.zip', 'r') #Opens the zip file in read mode\n",
        "zip_ref.extractall('/tmp') #Extracts the files into the /tmp folder\n",
        "zip_ref.close()"
      ],
      "execution_count": null,
      "outputs": [
        {
          "output_type": "stream",
          "name": "stdout",
          "text": [
            "--2021-10-04 06:58:30--  https://github.com/laxmimerit/dog-cat-full-dataset/archive/refs/heads/master.zip\n",
            "Resolving github.com (github.com)... 192.30.255.112\n",
            "Connecting to github.com (github.com)|192.30.255.112|:443... connected.\n",
            "HTTP request sent, awaiting response... 302 Found\n",
            "Location: https://codeload.github.com/laxmimerit/dog-cat-full-dataset/zip/refs/heads/master [following]\n",
            "--2021-10-04 06:58:30--  https://codeload.github.com/laxmimerit/dog-cat-full-dataset/zip/refs/heads/master\n",
            "Resolving codeload.github.com (codeload.github.com)... 192.30.255.120\n",
            "Connecting to codeload.github.com (codeload.github.com)|192.30.255.120|:443... connected.\n",
            "HTTP request sent, awaiting response... 200 OK\n",
            "Length: unspecified [application/zip]\n",
            "Saving to: ‘/tmp/cats-and-dogs.zip’\n",
            "\n",
            "/tmp/cats-and-dogs.     [        <=>         ] 545.70M  35.4MB/s    in 15s     \n",
            "\n",
            "2021-10-04 06:58:45 (35.9 MB/s) - ‘/tmp/cats-and-dogs.zip’ saved [572212372]\n",
            "\n"
          ]
        }
      ]
    },
    {
      "cell_type": "markdown",
      "metadata": {
        "id": "H9NKCDgA0Qw8"
      },
      "source": [
        "This is the github we are looking for Road detection."
      ]
    },
    {
      "cell_type": "code",
      "metadata": {
        "colab": {
          "base_uri": "https://localhost:8080/"
        },
        "id": "RYo8gtXrzAuJ",
        "outputId": "b70ce049-7085-4c91-d119-f4523081c505"
      },
      "source": [
        "import zipfile\n",
        "import os\n",
        "\n",
        "!wget --no-check-certificate \\\n",
        "\"https://github.com/hlwang1124/SNE-RoadSeg/archive/refs/heads/master.zip\" \\\n",
        "  -O \"/tmp/SNE-Road.zip\"\n",
        "\n",
        "zip_ref = zipfile.ZipFile('/tmp/SNE-Road.zip', 'r') #Opens the zip file in read mode\n",
        "zip_ref.extractall('/tmp') #Extracts the files into the /tmp folder\n",
        "zip_ref.close()"
      ],
      "execution_count": 1,
      "outputs": [
        {
          "output_type": "stream",
          "name": "stdout",
          "text": [
            "--2021-10-05 00:17:52--  https://github.com/hlwang1124/SNE-RoadSeg/archive/refs/heads/master.zip\n",
            "Resolving github.com (github.com)... 140.82.112.4\n",
            "Connecting to github.com (github.com)|140.82.112.4|:443... connected.\n",
            "HTTP request sent, awaiting response... 302 Found\n",
            "Location: https://codeload.github.com/hlwang1124/SNE-RoadSeg/zip/refs/heads/master [following]\n",
            "--2021-10-05 00:17:52--  https://codeload.github.com/hlwang1124/SNE-RoadSeg/zip/refs/heads/master\n",
            "Resolving codeload.github.com (codeload.github.com)... 140.82.113.10\n",
            "Connecting to codeload.github.com (codeload.github.com)|140.82.113.10|:443... connected.\n",
            "HTTP request sent, awaiting response... 200 OK\n",
            "Length: unspecified [application/zip]\n",
            "Saving to: ‘/tmp/SNE-Road.zip’\n",
            "\n",
            "/tmp/SNE-Road.zip       [     <=>            ]  20.06M  12.2MB/s    in 1.6s    \n",
            "\n",
            "2021-10-05 00:17:54 (12.2 MB/s) - ‘/tmp/SNE-Road.zip’ saved [21034898]\n",
            "\n"
          ]
        }
      ]
    }
  ]
}